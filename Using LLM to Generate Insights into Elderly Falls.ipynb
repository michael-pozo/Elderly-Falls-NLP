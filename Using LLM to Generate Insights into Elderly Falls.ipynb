{
 "cells": [
  {
   "cell_type": "markdown",
   "id": "9763c4de",
   "metadata": {},
   "source": [
    "## Data Import"
   ]
  },
  {
   "cell_type": "markdown",
   "id": "34cc6311",
   "metadata": {},
   "source": [
    "DataDriven provided code for using variable mapping and applying it to the primary dataset"
   ]
  },
  {
   "cell_type": "code",
   "execution_count": 1,
   "id": "4a5ff347",
   "metadata": {},
   "outputs": [],
   "source": [
    "import json\n",
    "from pathlib import Path\n",
    "import pandas as pd\n",
    "import numpy as np\n",
    "import matplotlib.pyplot as plt\n",
    "import seaborn as sns\n",
    "\n",
    "import re\n",
    "import nltk\n",
    "from nltk.corpus import stopwords\n",
    "from nltk.tokenize import word_tokenize\n",
    "from num2words import num2words\n",
    "from rake_nltk import Rake"
   ]
  },
  {
   "cell_type": "code",
   "execution_count": 2,
   "id": "0ac4f92a",
   "metadata": {},
   "outputs": [],
   "source": [
    "with Path(\"Data/variable_mapping.json\").open(\"r\") as f:\n",
    "    mapping = json.load(f, parse_int=True)"
   ]
  },
  {
   "cell_type": "code",
   "execution_count": 3,
   "id": "6458c354",
   "metadata": {},
   "outputs": [],
   "source": [
    "# convert the encoded values in the mapping to integers since they get read in as strings\n",
    "for c in mapping.keys():\n",
    "    mapping[c] = {int(k): v for k, v in mapping[c].items()}"
   ]
  },
  {
   "cell_type": "code",
   "execution_count": 4,
   "id": "5563c848",
   "metadata": {},
   "outputs": [
    {
     "data": {
      "text/plain": [
       "dict_keys(['sex', 'race', 'hispanic', 'alcohol', 'drug', 'body_part', 'body_part_2', 'diagnosis', 'diagnosis_2', 'disposition', 'location', 'fire_involvement', 'product_1', 'product_2', 'product_3'])"
      ]
     },
     "execution_count": 4,
     "metadata": {},
     "output_type": "execute_result"
    }
   ],
   "source": [
    "# the keys in the dictionary correspond to columns in the primary (and supplementary) data\n",
    "mapping.keys()"
   ]
  },
  {
   "cell_type": "code",
   "execution_count": 5,
   "id": "22875f85",
   "metadata": {
    "scrolled": false
   },
   "outputs": [
    {
     "data": {
      "text/html": [
       "<div>\n",
       "<style scoped>\n",
       "    .dataframe tbody tr th:only-of-type {\n",
       "        vertical-align: middle;\n",
       "    }\n",
       "\n",
       "    .dataframe tbody tr th {\n",
       "        vertical-align: top;\n",
       "    }\n",
       "\n",
       "    .dataframe thead th {\n",
       "        text-align: right;\n",
       "    }\n",
       "</style>\n",
       "<table border=\"1\" class=\"dataframe\">\n",
       "  <thead>\n",
       "    <tr style=\"text-align: right;\">\n",
       "      <th></th>\n",
       "      <th>cpsc_case_number</th>\n",
       "      <th>narrative</th>\n",
       "      <th>treatment_date</th>\n",
       "      <th>age</th>\n",
       "      <th>sex</th>\n",
       "      <th>race</th>\n",
       "      <th>other_race</th>\n",
       "      <th>hispanic</th>\n",
       "      <th>diagnosis</th>\n",
       "      <th>other_diagnosis</th>\n",
       "      <th>...</th>\n",
       "      <th>body_part</th>\n",
       "      <th>body_part_2</th>\n",
       "      <th>disposition</th>\n",
       "      <th>location</th>\n",
       "      <th>fire_involvement</th>\n",
       "      <th>alcohol</th>\n",
       "      <th>drug</th>\n",
       "      <th>product_1</th>\n",
       "      <th>product_2</th>\n",
       "      <th>product_3</th>\n",
       "    </tr>\n",
       "  </thead>\n",
       "  <tbody>\n",
       "    <tr>\n",
       "      <th>0</th>\n",
       "      <td>190103269</td>\n",
       "      <td>94YOM FELL TO THE FLOOR AT THE NURSING HOME ON...</td>\n",
       "      <td>2019-01-01</td>\n",
       "      <td>94</td>\n",
       "      <td>1</td>\n",
       "      <td>0</td>\n",
       "      <td>NaN</td>\n",
       "      <td>0</td>\n",
       "      <td>62</td>\n",
       "      <td>NaN</td>\n",
       "      <td>...</td>\n",
       "      <td>75</td>\n",
       "      <td>&lt;NA&gt;</td>\n",
       "      <td>4</td>\n",
       "      <td>5</td>\n",
       "      <td>0</td>\n",
       "      <td>0</td>\n",
       "      <td>0</td>\n",
       "      <td>1807</td>\n",
       "      <td>0</td>\n",
       "      <td>0</td>\n",
       "    </tr>\n",
       "    <tr>\n",
       "      <th>1</th>\n",
       "      <td>190103270</td>\n",
       "      <td>86YOM FELL IN THE SHOWER AT HOME AND SUSTAINED...</td>\n",
       "      <td>2019-01-01</td>\n",
       "      <td>86</td>\n",
       "      <td>1</td>\n",
       "      <td>0</td>\n",
       "      <td>NaN</td>\n",
       "      <td>0</td>\n",
       "      <td>62</td>\n",
       "      <td>NaN</td>\n",
       "      <td>...</td>\n",
       "      <td>75</td>\n",
       "      <td>&lt;NA&gt;</td>\n",
       "      <td>4</td>\n",
       "      <td>1</td>\n",
       "      <td>0</td>\n",
       "      <td>0</td>\n",
       "      <td>0</td>\n",
       "      <td>611</td>\n",
       "      <td>0</td>\n",
       "      <td>0</td>\n",
       "    </tr>\n",
       "    <tr>\n",
       "      <th>2</th>\n",
       "      <td>190103273</td>\n",
       "      <td>87YOF WAS GETTING UP FROM THE COUCH AND FELL T...</td>\n",
       "      <td>2019-01-01</td>\n",
       "      <td>87</td>\n",
       "      <td>2</td>\n",
       "      <td>0</td>\n",
       "      <td>NaN</td>\n",
       "      <td>0</td>\n",
       "      <td>53</td>\n",
       "      <td>NaN</td>\n",
       "      <td>...</td>\n",
       "      <td>32</td>\n",
       "      <td>&lt;NA&gt;</td>\n",
       "      <td>4</td>\n",
       "      <td>1</td>\n",
       "      <td>0</td>\n",
       "      <td>0</td>\n",
       "      <td>0</td>\n",
       "      <td>679</td>\n",
       "      <td>1807</td>\n",
       "      <td>0</td>\n",
       "    </tr>\n",
       "    <tr>\n",
       "      <th>3</th>\n",
       "      <td>190103291</td>\n",
       "      <td>67YOF WAS AT A FRIENDS HOUSE AND SLIPPED ON WA...</td>\n",
       "      <td>2019-01-01</td>\n",
       "      <td>67</td>\n",
       "      <td>2</td>\n",
       "      <td>0</td>\n",
       "      <td>NaN</td>\n",
       "      <td>0</td>\n",
       "      <td>57</td>\n",
       "      <td>NaN</td>\n",
       "      <td>...</td>\n",
       "      <td>33</td>\n",
       "      <td>&lt;NA&gt;</td>\n",
       "      <td>1</td>\n",
       "      <td>1</td>\n",
       "      <td>0</td>\n",
       "      <td>0</td>\n",
       "      <td>0</td>\n",
       "      <td>1807</td>\n",
       "      <td>0</td>\n",
       "      <td>0</td>\n",
       "    </tr>\n",
       "    <tr>\n",
       "      <th>4</th>\n",
       "      <td>190103294</td>\n",
       "      <td>70YOF WAS STANDING ON A STEP STOOL AND FELL OF...</td>\n",
       "      <td>2019-01-01</td>\n",
       "      <td>70</td>\n",
       "      <td>2</td>\n",
       "      <td>0</td>\n",
       "      <td>NaN</td>\n",
       "      <td>0</td>\n",
       "      <td>57</td>\n",
       "      <td>NaN</td>\n",
       "      <td>...</td>\n",
       "      <td>33</td>\n",
       "      <td>&lt;NA&gt;</td>\n",
       "      <td>1</td>\n",
       "      <td>1</td>\n",
       "      <td>0</td>\n",
       "      <td>0</td>\n",
       "      <td>0</td>\n",
       "      <td>620</td>\n",
       "      <td>0</td>\n",
       "      <td>0</td>\n",
       "    </tr>\n",
       "  </tbody>\n",
       "</table>\n",
       "<p>5 rows × 22 columns</p>\n",
       "</div>"
      ],
      "text/plain": [
       "   cpsc_case_number                                          narrative  \\\n",
       "0         190103269  94YOM FELL TO THE FLOOR AT THE NURSING HOME ON...   \n",
       "1         190103270  86YOM FELL IN THE SHOWER AT HOME AND SUSTAINED...   \n",
       "2         190103273  87YOF WAS GETTING UP FROM THE COUCH AND FELL T...   \n",
       "3         190103291  67YOF WAS AT A FRIENDS HOUSE AND SLIPPED ON WA...   \n",
       "4         190103294  70YOF WAS STANDING ON A STEP STOOL AND FELL OF...   \n",
       "\n",
       "  treatment_date  age  sex  race other_race  hispanic  diagnosis  \\\n",
       "0     2019-01-01   94    1     0        NaN         0         62   \n",
       "1     2019-01-01   86    1     0        NaN         0         62   \n",
       "2     2019-01-01   87    2     0        NaN         0         53   \n",
       "3     2019-01-01   67    2     0        NaN         0         57   \n",
       "4     2019-01-01   70    2     0        NaN         0         57   \n",
       "\n",
       "  other_diagnosis  ...  body_part body_part_2  disposition  location  \\\n",
       "0             NaN  ...         75        <NA>            4         5   \n",
       "1             NaN  ...         75        <NA>            4         1   \n",
       "2             NaN  ...         32        <NA>            4         1   \n",
       "3             NaN  ...         33        <NA>            1         1   \n",
       "4             NaN  ...         33        <NA>            1         1   \n",
       "\n",
       "   fire_involvement  alcohol  drug  product_1  product_2  product_3  \n",
       "0                 0        0     0       1807          0          0  \n",
       "1                 0        0     0        611          0          0  \n",
       "2                 0        0     0        679       1807          0  \n",
       "3                 0        0     0       1807          0          0  \n",
       "4                 0        0     0        620          0          0  \n",
       "\n",
       "[5 rows x 22 columns]"
      ]
     },
     "execution_count": 5,
     "metadata": {},
     "output_type": "execute_result"
    }
   ],
   "source": [
    "df = pd.read_csv(\n",
    "    \"Data/primary_data.csv\",\n",
    "    # set columns that can be null to nullable ints\n",
    "    dtype={\"body_part_2\": \"Int64\", \"diagnosis_2\": \"Int64\"},\n",
    ")\n",
    "df.head()"
   ]
  },
  {
   "cell_type": "code",
   "execution_count": 6,
   "id": "33ca4a1c",
   "metadata": {},
   "outputs": [],
   "source": [
    "decoded_df = df.copy()\n",
    "\n",
    "for col in mapping.keys():\n",
    "    decoded_df[col] = decoded_df[col].map(mapping[col])"
   ]
  },
  {
   "cell_type": "code",
   "execution_count": 7,
   "id": "e24b9737",
   "metadata": {
    "scrolled": false
   },
   "outputs": [
    {
     "name": "stdout",
     "output_type": "stream",
     "text": [
      "<class 'pandas.core.frame.DataFrame'>\n",
      "RangeIndex: 115128 entries, 0 to 115127\n",
      "Data columns (total 22 columns):\n",
      " #   Column             Non-Null Count   Dtype \n",
      "---  ------             --------------   ----- \n",
      " 0   cpsc_case_number   115128 non-null  int64 \n",
      " 1   narrative          115128 non-null  object\n",
      " 2   treatment_date     115128 non-null  object\n",
      " 3   age                115128 non-null  int64 \n",
      " 4   sex                115128 non-null  object\n",
      " 5   race               115128 non-null  object\n",
      " 6   other_race         1022 non-null    object\n",
      " 7   hispanic           115128 non-null  object\n",
      " 8   diagnosis          115128 non-null  object\n",
      " 9   other_diagnosis    2522 non-null    object\n",
      " 10  diagnosis_2        43145 non-null   object\n",
      " 11  other_diagnosis_2  4978 non-null    object\n",
      " 12  body_part          115128 non-null  object\n",
      " 13  body_part_2        43145 non-null   object\n",
      " 14  disposition        115128 non-null  object\n",
      " 15  location           115128 non-null  object\n",
      " 16  fire_involvement   115128 non-null  object\n",
      " 17  alcohol            115128 non-null  object\n",
      " 18  drug               115128 non-null  object\n",
      " 19  product_1          115128 non-null  object\n",
      " 20  product_2          115128 non-null  object\n",
      " 21  product_3          115128 non-null  object\n",
      "dtypes: int64(2), object(20)\n",
      "memory usage: 19.3+ MB\n"
     ]
    }
   ],
   "source": [
    "decoded_df.info()"
   ]
  },
  {
   "cell_type": "markdown",
   "id": "7790f768",
   "metadata": {},
   "source": [
    "## Exploratory Data Analysis"
   ]
  },
  {
   "cell_type": "code",
   "execution_count": 12,
   "id": "3fec32b0",
   "metadata": {
    "scrolled": false
   },
   "outputs": [
    {
     "data": {
      "image/png": "[encoded data removed]",
      "text/plain": [
       "<Figure size 1000x600 with 1 Axes>"
      ]
     },
     "metadata": {},
     "output_type": "display_data"
    }
   ],
   "source": [
    "plt.figure(figsize = (10,6))\n",
    "sns.histplot(data = decoded_df, x = 'age', bins = 15, hue = 'sex', kde = True);"
   ]
  },
  {
   "cell_type": "markdown",
   "id": "78752e06",
   "metadata": {},
   "source": [
    "Sample population contains more females than males and is not normally distributed. Mean age is somewhere in the 80s."
   ]
  },
  {
   "cell_type": "code",
   "execution_count": 13,
   "id": "962e1894",
   "metadata": {
    "scrolled": false
   },
   "outputs": [
    {
     "data": {
      "image/png": "[encoded data removed]",
      "text/plain": [
       "<Figure size 1000x600 with 1 Axes>"
      ]
     },
     "metadata": {},
     "output_type": "display_data"
    }
   ],
   "source": [
    "plt.figure(figsize = (10,6))\n",
    "sns.countplot(data = decoded_df, x = 'race')\n",
    "plt.xticks(rotation=60);"
   ]
  },
  {
   "cell_type": "markdown",
   "id": "d4c8c04d",
   "metadata": {},
   "source": [
    "Primarily white patients. A large number of individuals have N.S. as their primary race, which I will assume to mean not stated."
   ]
  },
  {
   "cell_type": "markdown",
   "id": "da877690",
   "metadata": {},
   "source": [
    "## Preprocessing for NLP"
   ]
  },
  {
   "cell_type": "markdown",
   "id": "2ab92ae5",
   "metadata": {},
   "source": [
    "The goal of the NLP task is to extract additional insights about elderly falls not captured in the \n",
    "\n",
    "What needs to happen before the narrative data can be analyzed?\n",
    "* lower case\n",
    "* remove stopwords, punctuation and special characters\n",
    "* remove age and sex\n",
    "* remove reference to falls\n",
    "* attempt to replace any abbreviations with medical definitions\n",
    "* remove any medical terms present in the diagnosis column"
   ]
  },
  {
   "cell_type": "code",
   "execution_count": 14,
   "id": "71d7c75a",
   "metadata": {},
   "outputs": [],
   "source": [
    "medical_terms = {\n",
    "    \"&\": \"and\",\n",
    "    \"***\": \"\",\n",
    "    \">>\": \"clinical diagnosis\",\n",
    "    \"@\": \"at\",\n",
    "    \"abr\": \"abrasion\",\n",
    "    \"abd\": \"abdomen\",\n",
    "    \"af\": \"accidental fall\",\n",
    "    \"afib\": \"atrial fibrillation\",\n",
    "    \"aki\": \"acute kidney injury\",\n",
    "    \"am\": \"morning\",\n",
    "    \"ams\": \"altered mental status\",\n",
    "    \"bac\": \"blood alcohol content\",\n",
    "    \"bal\": \"blood alcohol level,\",\n",
    "    \"biba\": \"brought in by ambulance\",\n",
    "    \"c/o\": \"complains of\",\n",
    "    \"chi\": \"closed-head injury\",\n",
    "    \"clsd\": \"closed\",\n",
    "    \"cpk\": \"creatine phosphokinase\",\n",
    "    \"cva\": \"cerebral vascular accident\",\n",
    "    \"dx\": \"diagnosis\",\n",
    "    \"ecf\": \"extended-care facility\",\n",
    "    \"er\": \"emergency room\",\n",
    "    \"etoh\": \"ethyl alcohol\",\n",
    "    \"eval\": \"evaluation\",\n",
    "    \"fd\": \"fall detected\",\n",
    "    \"fx\": \"fracture\",\n",
    "    \"fxs\": \"fractures\",\n",
    "    \"glf\": \"ground level fall\",\n",
    "    \"h/o\": \"history of\",\n",
    "    \"htn\": \"hypertension\",\n",
    "    \"hx\": \"history of\",\n",
    "    \"inj\": \"injury\",\n",
    "    \"inr\": \"international normalized ratio\",\n",
    "    \"intox\": \"intoxication\",\n",
    "    \"l\": \"left\",\n",
    "    \"loc\": \"loss of consciousness\",\n",
    "    \"lt\": \"left\",\n",
    "    \"mech\": \"mechanical\",\n",
    "    \"mult\": \"multiple\",\n",
    "    \"n.h.\": \"nursing home\",\n",
    "    \"nh\": \"nursing home\",\n",
    "    \"p/w\": \"presents with\",\n",
    "    \"pm\": \"afternoon\",\n",
    "    \"pt\": \"patient\",\n",
    "    \"pta\": \"prior to arrival\",\n",
    "    \"pts\": \"patient's\",\n",
    "    \"px\": \"physical examination\", # not \"procedure\",\n",
    "    \"r\": \"right\",\n",
    "    \"r/o\": \"rules out\",\n",
    "    \"rt\": \"right\",\n",
    "    \"s'd&f\": \"slipped and fell\",\n",
    "    \"s/p\": \"after\",\n",
    "    \"sah\": \"subarachnoid hemorrhage\",\n",
    "    \"sdh\": \"acute subdural hematoma\",\n",
    "    \"sts\": \"sit-to-stand\",\n",
    "    \"t'd&f\": \"tripped and fell\",\n",
    "    \"tr\": \"trauma\",\n",
    "    \"uti\": \"urinary tract infection\",\n",
    "    \"w/\": \"with\",\n",
    "    \"w/o\": \"without\",\n",
    "    \"wks\": \"weeks\"\n",
    "}"
   ]
  },
  {
   "cell_type": "code",
   "execution_count": null,
   "id": "8572e348",
   "metadata": {},
   "outputs": [],
   "source": [
    "# Download the set of stopwords from NLTK\n",
    "nltk.download('punkt')\n",
    "nltk.download('stopwords')\n",
    "\n",
    "# Load stopwords once\n",
    "stop_words = set(stopwords.words('english'))"
   ]
  },
  {
   "cell_type": "code",
   "execution_count": 57,
   "id": "1c2ff89e",
   "metadata": {},
   "outputs": [],
   "source": [
    "#Define preprocess function for diagnosis terms \n",
    "\n",
    "def preprocess_diagnosis(text, medical_dictionary=medical_terms, stop_words=stop_words):\n",
    "    \n",
    "    # Convert text to lowercase\n",
    "    text = text.lower()\n",
    "    \n",
    "    # Remove all numbers\n",
    "    text = re.sub(r'\\d+', '', text)\n",
    "\n",
    "    # Remove special characters and punctuation\n",
    "    text = re.sub(r'[^a-zA-Z\\s]', '', text)\n",
    "    \n",
    "    # Replace words using the medical dictionary\n",
    "    text = ' '.join([medical_dictionary.get(word, word) for word in text.split()])\n",
    "\n",
    "    # Tokenize the text\n",
    "    tokens = word_tokenize(text)\n",
    "\n",
    "    # Remove stopwords\n",
    "    cleaned_text = [word for word in tokens if word not in stop_words]\n",
    "\n",
    "    return ' '.join(cleaned_text)"
   ]
  },
  {
   "cell_type": "code",
   "execution_count": 59,
   "id": "abec9525",
   "metadata": {},
   "outputs": [],
   "source": [
    "decoded_df['processed_diagnosis'] = decoded_df['diagnosis'].apply(\n",
    "    lambda x: preprocess_diagnosis(x))"
   ]
  },
  {
   "cell_type": "code",
   "execution_count": 61,
   "id": "c826fec8",
   "metadata": {},
   "outputs": [],
   "source": [
    "# Compile the regular expression pattern for age and gender patterns\n",
    "age_gender_pattern = re.compile(r'\\b\\d+yo?m\\b|\\b\\d+yo?f\\b', flags=re.IGNORECASE)\n",
    "\n",
    "# Define function for preprocessing narratives\n",
    "def preprocess_text(text, diagnosis_terms, medical_dictionary = medical_terms, \n",
    "                    pattern=age_gender_pattern, stop_words=stop_words):\n",
    "    \n",
    "    # Remove age and gender patterns captured in other features\n",
    "    text = pattern.sub('', text)\n",
    "    \n",
    "    # Convert text to lowercase\n",
    "    text = text.lower()\n",
    "    \n",
    "    # Remove special characters and punctuation\n",
    "    text = re.sub(r'[^a-zA-Z\\s]', '', text)\n",
    "    \n",
    "    # Replace words using the medical dictionary\n",
    "    text = ' '.join([medical_dictionary.get(word, word) for word in text.split()])\n",
    "\n",
    "    # Remove variations of the word \"fall\"\n",
    "    text = re.sub(r'\\bfalls?\\b|\\bfell\\b|\\bfallen\\b|\\bfalling\\b', '', text, flags=re.IGNORECASE)\n",
    "\n",
    "    # Convert numbers to words\n",
    "    text = ' '.join([num2words(word) if word.isdigit() else word for word in text.split()])\n",
    "\n",
    "    # Tokenize the text\n",
    "    tokens = word_tokenize(text)\n",
    "\n",
    "    # Remove stopwords and words found in diagnosis\n",
    "    cleaned_text = [word for word in tokens if word not in stop_words and word not in diagnosis_terms.lower()]\n",
    "\n",
    "    return ' '.join(cleaned_text)"
   ]
  },
  {
   "cell_type": "code",
   "execution_count": 63,
   "id": "940ca1af",
   "metadata": {},
   "outputs": [],
   "source": [
    "# apply preprocessing function to narratives\n",
    "decoded_df['processed_narrative'] = decoded_df.apply(\n",
    "    lambda row: preprocess_text(row['narrative'], row['processed_diagnosis']), axis=1)"
   ]
  },
  {
   "cell_type": "code",
   "execution_count": 64,
   "id": "47e02f74",
   "metadata": {
    "scrolled": false
   },
   "outputs": [
    {
     "name": "stdout",
     "output_type": "stream",
     "text": [
      "['floor nursing home onto back head sustained subdural hematoma'\n",
      " 'shower home sustained closed head'\n",
      " 'getting couch floor sustained abrasions elbows admitted hemorrhagic stroke'\n",
      " 'friends house slipped water floor sustained right radius'\n",
      " 'standing step stool sustained right radius']\n"
     ]
    }
   ],
   "source": [
    "print(decoded_df['processed_narrative'].head(5).values)"
   ]
  },
  {
   "cell_type": "code",
   "execution_count": 66,
   "id": "7faa9cdb",
   "metadata": {
    "scrolled": true
   },
   "outputs": [
    {
     "data": {
      "text/plain": [
       "'contusions abrasion'"
      ]
     },
     "execution_count": 66,
     "metadata": {},
     "output_type": "execute_result"
    }
   ],
   "source": [
    "decoded_df['processed_diagnosis'][2]"
   ]
  },
  {
   "cell_type": "code",
   "execution_count": 86,
   "id": "5a58830a",
   "metadata": {},
   "outputs": [
    {
     "data": {
      "text/plain": [
       "diagnosis\n",
       "57 - FRACTURE            37125\n",
       "62 - INTERNAL INJURY     30843\n",
       "53 - CONTUSIONS, ABR.    19483\n",
       "59 - LACERATION          12417\n",
       "64 - STRAIN, SPRAIN       3951\n",
       "58 - HEMATOMA             3671\n",
       "71 - OTHER                2522\n",
       "72 - AVULSION             1845\n",
       "55 - DISLOCATION          1336\n",
       "52 - CONCUSSION            937\n",
       "68 - POISONING             350\n",
       "61 - NERVE DAMAGE          230\n",
       "66 - HEMORRHAGE            153\n",
       "60 - DENTAL INJURY          84\n",
       "51 - BURNS, THERMAL         54\n",
       "63 - PUNCTURE               39\n",
       "48 - BURN, SCALD            19\n",
       "50 - AMPUTATION             19\n",
       "56 - FOREIGN BODY           16\n",
       "74 - DERMA/CONJUNCT         10\n",
       "54 - CRUSHING                8\n",
       "42 - ASPIRATION              7\n",
       "65 - ANOXIA                  3\n",
       "49 - BURN, CHEMICAL          3\n",
       "47 - BURN, NOT SPEC.         2\n",
       "67 - ELECTRIC SHOCK          1\n",
       "Name: count, dtype: int64"
      ]
     },
     "execution_count": 86,
     "metadata": {},
     "output_type": "execute_result"
    }
   ],
   "source": [
    "decoded_df['diagnosis'].value_counts()"
   ]
  },
  {
   "cell_type": "markdown",
   "id": "b7221b82",
   "metadata": {},
   "source": [
    "Things you can do:\n",
    "* find the abbreviations and replace them\n",
    "* named entity recognition - possibly use LLM to extract better locations than what is recorded in the dataset. Example: nursing home vs home, apartment vs house, park vs sidewalk\n",
    "* dependency parsing using a simpilfied version of the products list "
   ]
  },
  {
   "cell_type": "markdown",
   "id": "ff89c4ee",
   "metadata": {},
   "source": [
    "## Basic Extraction of Key Phrases"
   ]
  },
  {
   "cell_type": "code",
   "execution_count": 81,
   "id": "93410d7c",
   "metadata": {},
   "outputs": [],
   "source": [
    "# Initialize RAKE\n",
    "rake_nltk_var = Rake()\n",
    "\n",
    "def extract_key_phrases(text):\n",
    "    rake_nltk_var.extract_keywords_from_text(text)\n",
    "    key_phrases = rake_nltk_var.get_ranked_phrases()  # Extract key phrases\n",
    "    return key_phrases\n",
    "\n",
    "# Apply to your DataFrame\n",
    "decoded_df['key_phrases'] = decoded_df['processed_narrative'].apply(extract_key_phrases)  # Replace 'preprocessed_text_column' with your column name\n"
   ]
  },
  {
   "cell_type": "code",
   "execution_count": 83,
   "id": "04ccaa56",
   "metadata": {},
   "outputs": [
    {
     "name": "stdout",
     "output_type": "stream",
     "text": [
      "[list(['fell floor nursing home onto back head sustained subdural hematoma'])\n",
      " list(['fell shower home sustained closed head injury'])\n",
      " list(['getting couch fell floor sustained abrasions elbows admitted hemorrhagic stroke'])\n",
      " list(['friends house slipped water floor sustained right radius fx'])\n",
      " list(['standing step stool fell sustained right radius fx'])]\n"
     ]
    }
   ],
   "source": [
    "print(decoded_df['key_phrases'].head(5).values)"
   ]
  },
  {
   "cell_type": "code",
   "execution_count": null,
   "id": "14447ccf",
   "metadata": {},
   "outputs": [],
   "source": []
  }
 ],
 "metadata": {
  "kernelspec": {
   "display_name": "Qoya",
   "language": "python",
   "name": "qoya"
  },
  "language_info": {
   "codemirror_mode": {
    "name": "ipython",
    "version": 3
   },
   "file_extension": ".py",
   "mimetype": "text/x-python",
   "name": "python",
   "nbconvert_exporter": "python",
   "pygments_lexer": "ipython3",
   "version": "3.8.16"
  }
 },
 "nbformat": 4,
 "nbformat_minor": 5
}
